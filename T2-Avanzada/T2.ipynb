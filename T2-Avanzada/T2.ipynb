{
  "nbformat": 4,
  "nbformat_minor": 0,
  "metadata": {
    "kernelspec": {
      "display_name": "Python 3",
      "language": "python",
      "name": "python3"
    },
    "language_info": {
      "codemirror_mode": {
        "name": "ipython",
        "version": 3
      },
      "file_extension": ".py",
      "mimetype": "text/x-python",
      "name": "python",
      "nbconvert_exporter": "python",
      "pygments_lexer": "ipython3",
      "version": "3.8.5"
    },
    "colab": {
      "name": "Untitled.ipynb",
      "provenance": [],
      "collapsed_sections": []
    },
    "accelerator": "GPU"
  },
  "cells": [
    {
      "cell_type": "code",
      "metadata": {
        "colab": {
          "base_uri": "https://localhost:8080/"
        },
        "id": "Iozu21gFqOR0",
        "outputId": "3f9b403a-b562-4934-9fcd-c7771ea5b40b"
      },
      "source": [
        "!pip install numdifftools"
      ],
      "execution_count": null,
      "outputs": [
        {
          "output_type": "stream",
          "text": [
            "Requirement already satisfied: numdifftools in /usr/local/lib/python3.7/dist-packages (0.9.39)\n"
          ],
          "name": "stdout"
        }
      ]
    },
    {
      "cell_type": "code",
      "metadata": {
        "id": "jLQGdnr4q3pD"
      },
      "source": [
        "import numpy as np\n",
        "import numdifftools as nd\n",
        "import matplotlib.pyplot as plt\n",
        "import time\n",
        "import scipy.optimize\n",
        "from numpy.linalg import inv, norm"
      ],
      "execution_count": null,
      "outputs": []
    },
    {
      "cell_type": "code",
      "metadata": {
        "id": "J_N3_fvlqOR3"
      },
      "source": [
        "class DescentAlgorithm:\n",
        "    def __init__(self, x0, epsilon, n_iters = 500):\n",
        "        self.x = x0\n",
        "        self.epsilon = epsilon\n",
        "        self.n_iters = n_iters\n",
        "        self.errors = []\n",
        "        self.norm = None\n",
        "        self.f_value = self.f(x0)\n",
        "        self.time = 'Sin converger'\n",
        "    \n",
        "    def __str__(self):\n",
        "        time = f'Tiempo convergencia: {self.time} segundos \\n'\n",
        "        k = f'Número de iteraciones: {self.k} \\n'\n",
        "        f = f'Valor función objetivo: {self.f_value} \\n'\n",
        "        norm = f'Norma gradiente: {self.norm}'\n",
        "        return time + k + f + norm\n",
        "    \n",
        "    def f(self,x):\n",
        "        return 100 * (x[1] - x[0]**2)**2 + (1 - x[0])**2\n",
        "        \n",
        "    def get_gradient(self, x):\n",
        "        dx0 = 400 * x[0]**3 - 400 * x[0] * x[1] + 2 * x[0] - 2\n",
        "        dx1 = 200 * (x[1] - x[0]**2)\n",
        "        return np.array([dx0, dx1])\n",
        "    \n",
        "    def get_descent_direction(self, x):\n",
        "        raise NotImplementedError(\"Please Implement this method\")\n",
        "    \n",
        "    def get_lambda(self, x):\n",
        "        raise NotImplementedError(\"Please Implement this method\")\n",
        "    \n",
        "    def norm_stop_criterion(self, x):\n",
        "        grad = self.get_gradient(x)\n",
        "        if norm(grad) <= self.epsilon:\n",
        "            return True\n",
        "        return False\n",
        "    \n",
        "    def relative_error(self, x):\n",
        "        optimo = self.f(np.array([1,1]))\n",
        "        return np.abs(optimo - self.f(x))\n",
        "            \n",
        "    \n",
        "    def init_algorithm(self):\n",
        "        t_inicial = time.time()\n",
        "\n",
        "        # (1) Inicializamos datos\n",
        "        k = 0\n",
        "        x = self.x\n",
        "        stop = False\n",
        "        \n",
        "        while k < self.n_iters and not stop:\n",
        "            # (2) Verificamos criterio de parada y guardamos error relativo\n",
        "            self.errors.append(self.relative_error(x))\n",
        "            \n",
        "            if not self.norm_stop_criterion(x):\n",
        "                \n",
        "                # (3) Obtenemos dirección de descenso\n",
        "                d = self.get_descent_direction(x)\n",
        "                \n",
        "                # (4) Efectuamos line search\n",
        "                lambda_ = self.get_lambda(x)\n",
        "                \n",
        "                # (5) Actualizamos valores\n",
        "                x = x + lambda_ * d\n",
        "                k += 1\n",
        "            \n",
        "            else:\n",
        "                # Guardamos punto óptimo y los datos de interés y finalizamos\n",
        "                self.x = x\n",
        "                self.k = k\n",
        "                self.time = round(time.time() - t_inicial, 3)\n",
        "                self.f_value = self.f(x)\n",
        "                self.norm = norm(self.get_gradient(x))\n",
        "\n",
        "                stop = True"
      ],
      "execution_count": null,
      "outputs": []
    },
    {
      "cell_type": "code",
      "metadata": {
        "id": "_jnRDSSrqOR5"
      },
      "source": [
        "class Gradient(DescentAlgorithm):\n",
        "    def __init__(self, linesearch, *args, **kwargs):\n",
        "        super().__init__(*args, **kwargs)\n",
        "        self.line_search = linesearch\n",
        "        \n",
        "    def f_lambda(self, lambda_, x, grad):\n",
        "        x = x + lambda_ * grad\n",
        "        return 100 * (x[1] - x[0]**2)**2 + (1 - x[0])**2\n",
        "\n",
        "    def classic_line_search(self, x):\n",
        "        return scipy.optimize.fminbound(self.f_lambda, 0, 10, args = (x, self.get_gradient(x)))\n",
        "    \n",
        "    def wolfe_armijo_line_search(self, x):\n",
        "        return scipy.optimize.line_search(self.f, self.get_gradient, x, -self.get_gradient(x))[0]\n",
        "    \n",
        "    def get_descent_direction(self, x):\n",
        "        return -self.get_gradient(x)\n",
        "    \n",
        "    def get_lambda(self, x):\n",
        "        if self.line_search == 'classic':\n",
        "            return self.classic_line_search(x)\n",
        "        \n",
        "        elif self.line_search == 'wolfe-armijo':\n",
        "            return self.wolfe_armijo_line_search(x)\n",
        "\n",
        "\n",
        "class Newton(DescentAlgorithm):\n",
        "    def __init__(self, *args, **kwargs):\n",
        "        super().__init__(*args, **kwargs)\n",
        "    \n",
        "    def get_hessian(self, x):\n",
        "        return nd.Hessian(self.f)(x)\n",
        "    \n",
        "    def get_descent_direction(self, x):\n",
        "        return - inv(self.get_hessian(x)).dot(self.get_gradient(x))\n",
        "    \n",
        "    def get_lambda(self, x):\n",
        "        # Consideramos paso fijo para Newton\n",
        "        return 1"
      ],
      "execution_count": null,
      "outputs": []
    },
    {
      "cell_type": "code",
      "metadata": {
        "id": "p6k6BU0UqOR6"
      },
      "source": [
        "# Definimos parámetros\n",
        "\n",
        "x0 = np.array([-2,2])\n",
        "epsilon = 10e-3"
      ],
      "execution_count": null,
      "outputs": []
    },
    {
      "cell_type": "code",
      "metadata": {
        "id": "3h9dNqkWqOR6"
      },
      "source": [
        "# Método del gradiente con linesearch clásico\n",
        "\n",
        "classic_gradient = Gradient('classic', x0, epsilon, 5000000)\n",
        "classic_gradient.init_algorithm()"
      ],
      "execution_count": null,
      "outputs": []
    },
    {
      "cell_type": "code",
      "metadata": {
        "id": "4fKmS6qKqOR6"
      },
      "source": [
        "# Método del gradiente con lineasearch de wolfe-armijo\n",
        "\n",
        "wolfe_armijo_gradient = Gradient('wolfe-armijo', x0, epsilon, 2000)\n",
        "wolfe_armijo_gradient.init_algorithm()"
      ],
      "execution_count": null,
      "outputs": []
    },
    {
      "cell_type": "code",
      "metadata": {
        "id": "Zrm6lErbqOR7"
      },
      "source": [
        "# Método de Newton\n",
        "\n",
        "newton = Newton(x0, 10e-3, 2000)\n",
        "newton.init_algorithm()"
      ],
      "execution_count": null,
      "outputs": []
    },
    {
      "cell_type": "code",
      "metadata": {
        "colab": {
          "base_uri": "https://localhost:8080/"
        },
        "id": "_KOrFHtLaYp_",
        "outputId": "e9744a04-45bc-47d7-932a-db57ac199a45"
      },
      "source": [
        "print(classic_gradient)"
      ],
      "execution_count": null,
      "outputs": [
        {
          "output_type": "stream",
          "text": [
            "Tiempo convergencia: 3228.812 segundos \n",
            "Número de iteraciones: 1985112 \n",
            "Valor función objetivo: 0.000122995109088013 \n",
            "Norma gradiente: 0.009999996349195813\n"
          ],
          "name": "stdout"
        }
      ]
    },
    {
      "cell_type": "code",
      "metadata": {
        "colab": {
          "base_uri": "https://localhost:8080/"
        },
        "id": "r38crCegZPLI",
        "outputId": "9725d416-a88c-4c02-883d-4c5e18d1a989"
      },
      "source": [
        "print(wolfe_armijo_gradient)"
      ],
      "execution_count": null,
      "outputs": [
        {
          "output_type": "stream",
          "text": [
            "Tiempo convergencia: 0.523 segundos \n",
            "Número de iteraciones: 1460 \n",
            "Valor función objetivo: 0.00012102524626720055 \n",
            "Norma gradiente: 0.009987530011590246\n"
          ],
          "name": "stdout"
        }
      ]
    },
    {
      "cell_type": "code",
      "metadata": {
        "colab": {
          "base_uri": "https://localhost:8080/"
        },
        "id": "kpiNdca9adk8",
        "outputId": "3a74f622-b592-4faf-c007-a0a8903b1624"
      },
      "source": [
        "print(newton)"
      ],
      "execution_count": null,
      "outputs": [
        {
          "output_type": "stream",
          "text": [
            "Tiempo convergencia: 0.031 segundos \n",
            "Número de iteraciones: 5 \n",
            "Valor función objetivo: 1.809430043822434e-19 \n",
            "Norma gradiente: 8.507479165587029e-10\n"
          ],
          "name": "stdout"
        }
      ]
    },
    {
      "cell_type": "code",
      "metadata": {
        "id": "Z0lM3EyvqOR8"
      },
      "source": [
        "e1 = wolfe_armijo_gradient.errors[224:]\n",
        "y1 = [i for i in range(224, len(e1)+224)]"
      ],
      "execution_count": null,
      "outputs": []
    },
    {
      "cell_type": "code",
      "metadata": {
        "colab": {
          "base_uri": "https://localhost:8080/",
          "height": 513
        },
        "id": "05wD61K-qOR8",
        "outputId": "8c3d3af5-f2e1-4468-e0ba-8b811afe5bd0"
      },
      "source": [
        "plt.figure(figsize=(8,8))\n",
        "plt.scatter(y1, e1, s=2, c='b')\n",
        "plt.xlabel('Iteración')\n",
        "plt.ylabel('Error')\n",
        "plt.title('Convergencia método del gradiente con Wolfe-Armijo')\n",
        "plt.show()"
      ],
      "execution_count": null,
      "outputs": [
        {
          "output_type": "display_data",
          "data": {
            "image/png": "[encoded data removed]",
            "text/plain": [
              "<Figure size 576x576 with 1 Axes>"
            ]
          },
          "metadata": {
            "tags": [],
            "needs_background": "light"
          }
        }
      ]
    },
    {
      "cell_type": "code",
      "metadata": {
        "colab": {
          "base_uri": "https://localhost:8080/",
          "height": 513
        },
        "id": "CKThUx0EqOR8",
        "outputId": "69f9b890-bc06-4fb8-ee07-700ab7cc38a9"
      },
      "source": [
        "e2 = classic_gradient.errors[250:]\n",
        "y2 = [i for i in range(250, len(e2)+250)]\n",
        "plt.figure(figsize=(8,8))\n",
        "plt.scatter(y2, e2, s=2, c='r')\n",
        "plt.xlabel('Iteración')\n",
        "plt.ylabel('Error')\n",
        "plt.title('Convergencia método del gradiente clásico')\n",
        "plt.show()"
      ],
      "execution_count": null,
      "outputs": [
        {
          "output_type": "display_data",
          "data": {
            "image/png": "[encoded data removed]",
            "text/plain": [
              "<Figure size 576x576 with 1 Axes>"
            ]
          },
          "metadata": {
            "tags": [],
            "needs_background": "light"
          }
        }
      ]
    },
    {
      "cell_type": "code",
      "metadata": {
        "colab": {
          "base_uri": "https://localhost:8080/",
          "height": 513
        },
        "id": "rRxZS6mBqOR9",
        "outputId": "32a05001-aaf0-498c-e168-36090b1bc72b"
      },
      "source": [
        "e3 = newton.errors\n",
        "y3 = [i for i in range(len(e3))]\n",
        "plt.figure(figsize=(8,8))\n",
        "plt.scatter(y3, e3, s=10, c='g')\n",
        "\n",
        "plt.xlabel('Iteración')\n",
        "plt.ylabel('Error')\n",
        "plt.title('Convergencia método de Newton')\n",
        "plt.show()"
      ],
      "execution_count": null,
      "outputs": [
        {
          "output_type": "display_data",
          "data": {
            "image/png": "[encoded data removed]",
            "text/plain": [
              "<Figure size 576x576 with 1 Axes>"
            ]
          },
          "metadata": {
            "tags": [],
            "needs_background": "light"
          }
        }
      ]
    },
    {
      "cell_type": "code",
      "metadata": {
        "id": "JbQlPc7Iaf5v"
      },
      "source": [
        ""
      ],
      "execution_count": null,
      "outputs": []
    }
  ]
}